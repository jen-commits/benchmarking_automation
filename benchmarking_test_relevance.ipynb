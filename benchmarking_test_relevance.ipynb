{
 "cells": [
  {
   "cell_type": "code",
   "execution_count": 7,
   "metadata": {},
   "outputs": [
    {
     "name": "stdout",
     "output_type": "stream",
     "text": [
      "The dotenv extension is already loaded. To reload it, use:\n",
      "  %reload_ext dotenv\n",
      "Stored 'eval_df' (DataFrame)\n"
     ]
    },
    {
     "name": "stderr",
     "output_type": "stream",
     "text": [
      "C:\\Users\\njeny\\AppData\\Roaming\\Python\\Python313\\site-packages\\IPython\\extensions\\storemagic.py:229: UserWarning: This is now an optional IPython functionality, setting autorestore/eval_df requires you to install the `pickleshare` library.\n",
      "  db[ 'autorestore/' + arg ] = obj\n"
     ]
    }
   ],
   "source": [
    "import getpass\n",
    "import os\n",
    "import pprint\n",
    "import pandas as pd\n",
    "from langgraph.checkpoint.memory import MemorySaver\n",
    "from langgraph.graph import START, MessagesState, StateGraph\n",
    "from langchain_core.messages import HumanMessage\n",
    "from langchain_core.messages import AIMessage\n",
    "from langchain_core.prompts import ChatPromptTemplate, MessagesPlaceholder\n",
    "from langchain_openai import ChatOpenAI\n",
    "from langchain.output_parsers import PydanticOutputParser\n",
    "from langchain.prompts import PromptTemplate\n",
    "from pydantic import BaseModel, Field, validator\n",
    "from langchain.output_parsers import ResponseSchema, StructuredOutputParser\n",
    "from langchain import hub\n",
    "\n",
    "%load_ext dotenv\n",
    "%dotenv\n",
    "\n",
    "os.environ[\"LANGCHAIN_TRACING_V2\"] = \"true\"\n",
    "#os.environ[\"LANGCHAIN_API_KEY\"] = getpass.getpass()\n",
    "#os.environ[\"OPENAI_API_KEY\"] = getpass.getpass()\n",
    "\n",
    "# Initialize model\n",
    "answer_model  = ChatOpenAI(model=\"gpt-4o\", temperature=0.5)\n",
    "eval_model = ChatOpenAI(model=\"gpt-4o\", temperature=0.1)\n",
    "\n",
    "response_schemas = [\n",
    "    ResponseSchema(name=\"evaluation\", description=\"feedback on answer\"),\n",
    "    ResponseSchema(\n",
    "        name=\"relevance\",\n",
    "        description=\"evaluation of answer, should be a percentage\",\n",
    "    ),\n",
    "]\n",
    "\n",
    "output_parser = StructuredOutputParser.from_response_schemas(response_schemas)\n",
    "format_instructions = output_parser.get_format_instructions()\n",
    "\n",
    "# Pull latest prompt from LangSmith\n",
    "relevance_prompt = hub.pull(\"benchmarking_relevance_v1\")\n",
    "\n",
    "# Create a prompt \n",
    "eval_prompt = PromptTemplate(\n",
    "    template = relevance_prompt.template,\n",
    "    input_variables=[\"question\", \"answer\", \"reference\"],\n",
    "    partial_variables={\"format_instructions\": format_instructions},\n",
    ")\n",
    "\n",
    "# Load test cases\n",
    "testcases_df = pd.read_csv(\"relevance_gemini_01a.csv\")\n",
    "eval_store_data = []\n",
    "\n",
    "# Iterate over test cases and call LLM for answer\n",
    "for index, row in testcases_df.iterrows():\n",
    "    question = row[\"question\"]\n",
    "    reference = row[\"reference\"]\n",
    "\n",
    "    # Get answer from LLM\n",
    "    answer = answer_model.invoke([HumanMessage(content=question)]).content\n",
    "    \n",
    "    # Evaluate response\n",
    "    eval_prompt_and_model = eval_prompt | eval_model\n",
    "    output = eval_prompt_and_model.invoke({\"question\": question, \"answer\": answer, \"reference\": reference})\n",
    "\n",
    "    # chain = prompt | model | parser\n",
    "    # chain.invoke({\"question\": question, \"answer\": answer, \"reference\": reference})\n",
    "\n",
    "    # Parse the output using the parser\n",
    "    parsed_result = output_parser.invoke(output)\n",
    "\n",
    "    # Store results\n",
    "    eval_store_data.append(parsed_result)\n",
    "    eval_store_data[index][\"question\"] = question\n",
    "    eval_store_data[index][\"reference\"] = reference\n",
    "    eval_store_data[index][\"answer\"] = answer\n",
    "\n",
    "answer_headers = [\"question\", \"reference\", \"answer\", \"evaluation\", \"relevance\"]\n",
    "eval_df = pd.DataFrame(eval_store_data, columns=answer_headers)\n",
    "%store eval_df    "
   ]
  },
  {
   "cell_type": "code",
   "execution_count": 8,
   "metadata": {},
   "outputs": [
    {
     "data": {
      "text/html": [
       "<div>\n",
       "<style scoped>\n",
       "    .dataframe tbody tr th:only-of-type {\n",
       "        vertical-align: middle;\n",
       "    }\n",
       "\n",
       "    .dataframe tbody tr th {\n",
       "        vertical-align: top;\n",
       "    }\n",
       "\n",
       "    .dataframe thead th {\n",
       "        text-align: right;\n",
       "    }\n",
       "</style>\n",
       "<table border=\"1\" class=\"dataframe\">\n",
       "  <thead>\n",
       "    <tr style=\"text-align: right;\">\n",
       "      <th></th>\n",
       "      <th>question</th>\n",
       "      <th>reference</th>\n",
       "      <th>answer</th>\n",
       "      <th>evaluation</th>\n",
       "      <th>relevance</th>\n",
       "    </tr>\n",
       "  </thead>\n",
       "  <tbody>\n",
       "    <tr>\n",
       "      <th>0</th>\n",
       "      <td>Summarize the NPS for this year (2024) for Cir...</td>\n",
       "      <td>Average NPS of -17 in 2024. \\n\\nJanuary 2024: ...</td>\n",
       "      <td>I'm sorry, but I don't have access to real-tim...</td>\n",
       "      <td>The system answer does not provide any of the ...</td>\n",
       "      <td>0%</td>\n",
       "    </tr>\n",
       "  </tbody>\n",
       "</table>\n",
       "</div>"
      ],
      "text/plain": [
       "                                            question  \\\n",
       "0  Summarize the NPS for this year (2024) for Cir...   \n",
       "\n",
       "                                           reference  \\\n",
       "0  Average NPS of -17 in 2024. \\n\\nJanuary 2024: ...   \n",
       "\n",
       "                                              answer  \\\n",
       "0  I'm sorry, but I don't have access to real-tim...   \n",
       "\n",
       "                                          evaluation relevance  \n",
       "0  The system answer does not provide any of the ...        0%  "
      ]
     },
     "execution_count": 8,
     "metadata": {},
     "output_type": "execute_result"
    }
   ],
   "source": [
    "eval_df"
   ]
  },
  {
   "cell_type": "code",
   "execution_count": null,
   "metadata": {},
   "outputs": [],
   "source": []
  }
 ],
 "metadata": {
  "kernelspec": {
   "display_name": "Python 3",
   "language": "python",
   "name": "python3"
  },
  "language_info": {
   "codemirror_mode": {
    "name": "ipython",
    "version": 3
   },
   "file_extension": ".py",
   "mimetype": "text/x-python",
   "name": "python",
   "nbconvert_exporter": "python",
   "pygments_lexer": "ipython3",
   "version": "3.13.0"
  }
 },
 "nbformat": 4,
 "nbformat_minor": 2
}
