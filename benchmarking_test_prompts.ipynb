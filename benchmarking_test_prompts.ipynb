{
 "cells": [
  {
   "cell_type": "code",
   "execution_count": 121,
   "metadata": {},
   "outputs": [
    {
     "name": "stdout",
     "output_type": "stream",
     "text": [
      "The dotenv extension is already loaded. To reload it, use:\n",
      "  %reload_ext dotenv\n",
      "Stored 'rel_df' (DataFrame)\n"
     ]
    },
    {
     "name": "stderr",
     "output_type": "stream",
     "text": [
      "/Users/jenyang.niam/Library/Python/3.13/lib/python/site-packages/IPython/extensions/storemagic.py:229: UserWarning: This is now an optional IPython functionality, setting autorestore/rel_df requires you to install the `pickleshare` library.\n",
      "  db[ 'autorestore/' + arg ] = obj\n"
     ]
    }
   ],
   "source": [
    "import getpass\n",
    "import os\n",
    "import pprint\n",
    "import pandas as pd\n",
    "from langgraph.checkpoint.memory import MemorySaver\n",
    "from langgraph.graph import START, MessagesState, StateGraph\n",
    "from langchain_core.messages import HumanMessage\n",
    "from langchain_core.messages import AIMessage\n",
    "from langchain_core.prompts import ChatPromptTemplate, MessagesPlaceholder\n",
    "from langchain_openai import ChatOpenAI\n",
    "from langchain.output_parsers import PydanticOutputParser\n",
    "from langchain.prompts import PromptTemplate\n",
    "from pydantic import BaseModel, Field, validator\n",
    "from langchain.output_parsers import ResponseSchema, StructuredOutputParser\n",
    "from langchain import hub\n",
    "from langchain_google_genai import ChatGoogleGenerativeAI\n",
    "\n",
    "%load_ext dotenv\n",
    "%dotenv\n",
    "\n",
    "os.environ[\"LANGCHAIN_TRACING_V2\"] = \"true\"\n",
    "#os.environ[\"LANGCHAIN_API_KEY\"] = getpass.getpass()\n",
    "#os.environ[\"OPENAI_API_KEY\"] = getpass.getpass()\n",
    "\n",
    "# Load test cases and data store\n",
    "testcases_df = pd.read_csv(\"relevance_gemini_01.csv\")\n",
    "manual_scores_df = pd.read_csv(\"reference_scoring_v1.csv\")\n",
    "\n",
    "# Define output headers\n",
    "relevance_answer_headers = [\"question\", \"reference\", \"answer\", \"evaluation\", \"relevance\"]\n",
    "depth_answer_headers = [\"question\", \"reference\", \"answer\", \"evaluation\", \"depth\"]\n",
    "\n",
    "# Define evaluation function\n",
    "def evaluate_criteria(parser, testcases_df, eval_llm, tested_llm, prompt):\n",
    "    eval_store_data = []\n",
    "    #Iterate over test cases and call LLM(s) for answer\n",
    "    \n",
    "    for index, row in testcases_df.iterrows():\n",
    "        question = row[\"question\"]\n",
    "        reference = row[\"reference\"]\n",
    "\n",
    "        # # Get answer from LLM\n",
    "        # answer = tested_llm.invoke([HumanMessage(content=question)]).content\n",
    "        \n",
    "        # Get answer from reference\n",
    "        answer = row[\"nps_advisor_answer\"]\n",
    "        \n",
    "        # Evaluate response\n",
    "        eval_prompt_and_model = prompt | eval_llm\n",
    "        output = eval_prompt_and_model.invoke({\"question\": question, \"answer\": answer, \"reference\": reference})\n",
    "\n",
    "        # Parse the output using the parser\n",
    "        parsed_result = parser.invoke(output)\n",
    "\n",
    "        # Store results\n",
    "        eval_store_data.append(parsed_result)\n",
    "        eval_store_data[index][\"question\"] = question\n",
    "        eval_store_data[index][\"reference\"] = reference\n",
    "        eval_store_data[index][\"answer\"] = answer  \n",
    "    return eval_store_data\n",
    "\n",
    "# Create a prompt \n",
    "def create_prompt(prompt_template, criteria):\n",
    "    \n",
    "    # Define output schema\n",
    "    response_schemas = [\n",
    "        ResponseSchema(name=\"evaluation\", description=\"feedback on answer\"),\n",
    "        ResponseSchema(\n",
    "            name=criteria,\n",
    "            description=\"evaluation of answer, should be a percentage\",\n",
    "        ),\n",
    "    ]\n",
    "\n",
    "    # Define pydanthic output parser\n",
    "    output_parser = StructuredOutputParser.from_response_schemas(response_schemas)\n",
    "    format_instructions = output_parser.get_format_instructions()\n",
    "    \n",
    "    eval_prompt = PromptTemplate(\n",
    "        template = prompt_template.template,\n",
    "        input_variables=[\"question\", \"answer\", \"reference\"],\n",
    "        partial_variables={\"format_instructions\": format_instructions},\n",
    "    )\n",
    "    return eval_prompt, output_parser\n",
    "\n",
    "# Pull latest prompt from LangSmith\n",
    "relevance_prompt = hub.pull(\"benchmarking_relevance_v1\")\n",
    "depth_prompt = hub.pull(\"benchmarking_depth_v1\")\n",
    "\n",
    "# Initialize models to test\n",
    "gpt4_model  = ChatOpenAI(model=\"gpt-4o\", temperature=0.5)\n",
    "gemini_model = ChatGoogleGenerativeAI(model=\"gemini-pro\")\n",
    "\n",
    "# Initialize evaluator model\n",
    "eval_model = ChatOpenAI(model=\"gpt-4o\", temperature=0.0)\n",
    "\n",
    "test_relevence = True\n",
    "test_depth = False\n",
    "\n",
    "# Run relevance benchmark\n",
    "if test_relevence:\n",
    "    rel_prompt, parser = create_prompt(relevance_prompt, \"relevance\")\n",
    "    relevance_store_data = evaluate_criteria(parser, testcases_df, eval_model, gemini_model, rel_prompt)\n",
    "    rel_df = pd.DataFrame(relevance_store_data, columns=relevance_answer_headers)\n",
    "    %store rel_df\n",
    "\n",
    "# Run depth benchmark\n",
    "if test_depth:\n",
    "    dep_prompt, parser = create_prompt(depth_prompt, \"depth\")\n",
    "    depth_store_data = evaluate_criteria(parser, testcases_df, eval_model, gemini_model, dep_prompt)\n",
    "    dep_df = pd.DataFrame(depth_store_data, columns=depth_answer_headers)\n",
    "    %store dep_df\n",
    "    \n",
    "\n",
    "# Store outputs\n",
    "# eval_df = pd.merge(rel_df, dep_df, how=\"inner\", on=[\"question\", \"reference\"])"
   ]
  },
  {
   "cell_type": "code",
   "execution_count": 120,
   "metadata": {},
   "outputs": [
    {
     "name": "stdout",
     "output_type": "stream",
     "text": [
      "Delta: 0.13738666666666666\n"
     ]
    }
   ],
   "source": [
    "#Depth\n",
    "import pandas as pd\n",
    "\n",
    "golden_reference = pd.read_csv(\"reference_scoring_v1.csv\")\n",
    "# display(golden_reference.loc[:,[\"question\", \"reference\", \"nps_advisor_depth\"]])\n",
    "# display(dep_df)\n",
    "\n",
    "golden_reference = golden_reference.loc[:,[\"question\", \"reference\", \"nps_advisor_depth\"]]\n",
    "compare_df = pd.merge(dep_df, golden_reference, how=\"inner\", on=[\"question\", \"reference\"])\n",
    "\n",
    "compare_df['depth'] = compare_df['depth'].str.rstrip('%').astype('float')/100.0\n",
    "compare_df['nps_advisor_depth'] = compare_df['nps_advisor_depth'].str.rstrip('%').astype('float')/100.0\n",
    "compare_df['delta'] = compare_df.apply(lambda x: abs(x['depth'] - x['nps_advisor_depth']), axis=1)\n",
    "\n",
    "# compare_df\n",
    "print(\"Delta: \"+str(compare_df['delta'].mean()))\n",
    "compare_df.to_excel(\"dep_scoring.xlsx\")"
   ]
  },
  {
   "cell_type": "code",
   "execution_count": 122,
   "metadata": {},
   "outputs": [
    {
     "name": "stdout",
     "output_type": "stream",
     "text": [
      "Delta: 0.09943999999999999\n"
     ]
    }
   ],
   "source": [
    "#Relevance\n",
    "import pandas as pd\n",
    "\n",
    "golden_reference = pd.read_csv(\"reference_scoring_v1.csv\")\n",
    "# display(golden_reference.loc[:,[\"question\", \"reference\", \"nps_advisor_relevance\"]])\n",
    "# display(rel_df)\n",
    "\n",
    "golden_reference = golden_reference.loc[:,[\"question\", \"reference\", \"nps_advisor_relevance\"]]\n",
    "compare_df = pd.merge(rel_df, golden_reference, how=\"inner\", on=[\"question\", \"reference\"])\n",
    "\n",
    "compare_df['relevance'] = compare_df['relevance'].str.rstrip('%').astype('float')/100.0\n",
    "compare_df['nps_advisor_relevance'] = compare_df['nps_advisor_relevance'].str.rstrip('%').astype('float')/100.0\n",
    "compare_df['delta'] = compare_df.apply(lambda x: abs(x['relevance'] - x['nps_advisor_relevance']), axis=1)\n",
    "\n",
    "# compare_df\n",
    "print(\"Delta: \"+str(compare_df['delta'].mean()))\n",
    "compare_df.to_excel(\"rel_scoring.xlsx\")"
   ]
  },
  {
   "cell_type": "code",
   "execution_count": null,
   "metadata": {},
   "outputs": [],
   "source": []
  }
 ],
 "metadata": {
  "kernelspec": {
   "display_name": "Python 3",
   "language": "python",
   "name": "python3"
  },
  "language_info": {
   "codemirror_mode": {
    "name": "ipython",
    "version": 3
   },
   "file_extension": ".py",
   "mimetype": "text/x-python",
   "name": "python",
   "nbconvert_exporter": "python",
   "pygments_lexer": "ipython3",
   "version": "3.13.0"
  }
 },
 "nbformat": 4,
 "nbformat_minor": 2
}
